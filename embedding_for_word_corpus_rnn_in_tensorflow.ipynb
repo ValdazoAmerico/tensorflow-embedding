{
  "nbformat": 4,
  "nbformat_minor": 0,
  "metadata": {
    "colab": {
      "name": "embedding for word corpus rnn in tensorflow.ipynb",
      "provenance": [],
      "collapsed_sections": [],
      "authorship_tag": "ABX9TyMgIwg1WO97PCbpgx/KyaGR",
      "include_colab_link": true
    },
    "kernelspec": {
      "name": "python3",
      "display_name": "Python 3"
    },
    "language_info": {
      "name": "python"
    }
  },
  "cells": [
    {
      "cell_type": "markdown",
      "metadata": {
        "id": "view-in-github",
        "colab_type": "text"
      },
      "source": [
        "<a href=\"https://colab.research.google.com/github/ValdazoAmerico/tensorflow-embedding/blob/main/embedding_for_word_corpus_rnn_in_tensorflow.ipynb\" target=\"_parent\"><img src=\"https://colab.research.google.com/assets/colab-badge.svg\" alt=\"Open In Colab\"/></a>"
      ]
    },
    {
      "cell_type": "code",
      "metadata": {
        "id": "nqFL7JYqzh0C"
      },
      "source": [
        "from google.colab import drive\n",
        "import tensorflow as tf\n",
        "from tensorflow.keras.preprocessing.text import Tokenizer"
      ],
      "execution_count": null,
      "outputs": []
    },
    {
      "cell_type": "code",
      "metadata": {
        "id": "Rogp9ceBz60i"
      },
      "source": [
        "x = ['I am very haypp today','No, I do not like the movie']\n",
        "y = [1,0]"
      ],
      "execution_count": null,
      "outputs": []
    },
    {
      "cell_type": "code",
      "metadata": {
        "id": "lGpv19rzz_A0"
      },
      "source": [
        "tokenizer = Tokenizer(num_words=20)"
      ],
      "execution_count": null,
      "outputs": []
    },
    {
      "cell_type": "code",
      "metadata": {
        "id": "9d2LRa0L0ChS"
      },
      "source": [
        "tokenizer.fit_on_texts(x)"
      ],
      "execution_count": null,
      "outputs": []
    },
    {
      "cell_type": "code",
      "metadata": {
        "id": "9anrAePN0EtS"
      },
      "source": [
        "sequences = tokenizer.texts_to_sequences(x)"
      ],
      "execution_count": null,
      "outputs": []
    },
    {
      "cell_type": "code",
      "metadata": {
        "colab": {
          "base_uri": "https://localhost:8080/"
        },
        "id": "1Rd_C9Bj0IeX",
        "outputId": "a51bccab-db79-4c7f-dd13-a36000c9449d"
      },
      "source": [
        "word_index = tokenizer.word_index\n",
        "print(tokenizer.word_index)\n",
        "print('Found %s unique tokens.' % len(word_index))"
      ],
      "execution_count": null,
      "outputs": [
        {
          "output_type": "stream",
          "text": [
            "{'i': 1, 'am': 2, 'very': 3, 'haypp': 4, 'today': 5, 'no': 6, 'do': 7, 'not': 8, 'like': 9, 'the': 10, 'movie': 11}\n",
            "Found 11 unique tokens.\n"
          ],
          "name": "stdout"
        }
      ]
    },
    {
      "cell_type": "code",
      "metadata": {
        "colab": {
          "base_uri": "https://localhost:8080/"
        },
        "id": "E5UdhuXV0fQl",
        "outputId": "cf464cc5-bbea-41b9-b0d7-a916ff71adb1"
      },
      "source": [
        "print(sequences)"
      ],
      "execution_count": null,
      "outputs": [
        {
          "output_type": "stream",
          "text": [
            "[[1, 2, 3, 4, 5], [6, 1, 7, 8, 9, 10, 11]]\n"
          ],
          "name": "stdout"
        }
      ]
    },
    {
      "cell_type": "code",
      "metadata": {
        "colab": {
          "base_uri": "https://localhost:8080/"
        },
        "id": "Kxx-shy20hUx",
        "outputId": "6bd3be35-04cf-4fd0-cd98-8fa3274b9df5"
      },
      "source": [
        "#Identify max lenght of reviews\n",
        "max_length = 0\n",
        "for review_number in range(len(sequences)):\n",
        "  numberofwords=len(sequences[review_number])\n",
        "  if (numberofwords) > (max_length):\n",
        "    max_length = numberofwords\n",
        "print(max_length)"
      ],
      "execution_count": null,
      "outputs": [
        {
          "output_type": "stream",
          "text": [
            "7\n"
          ],
          "name": "stdout"
        }
      ]
    },
    {
      "cell_type": "code",
      "metadata": {
        "colab": {
          "base_uri": "https://localhost:8080/"
        },
        "id": "yuj7UZxl011_",
        "outputId": "a5d193af-bed3-4647-d9e8-7bc35444d192"
      },
      "source": [
        "#Padding the sequence for shorter reviews\n",
        "from tensorflow.keras.preprocessing.sequence import pad_sequences\n",
        "import numpy as np\n",
        "data = pad_sequences(sequences, maxlen=max_length)\n",
        "y = np.asarray(y)\n",
        "print(data)\n",
        "print('The Shape Of Data Tensor:', data.shape)\n",
        "print('Shape of label tensor:', y.shape)"
      ],
      "execution_count": null,
      "outputs": [
        {
          "output_type": "stream",
          "text": [
            "[[ 0  0  1  2  3  4  5]\n",
            " [ 6  1  7  8  9 10 11]]\n",
            "The Shape Of Data Tensor: (2, 7)\n",
            "Shape of label tensor: (2,)\n"
          ],
          "name": "stdout"
        }
      ]
    },
    {
      "cell_type": "code",
      "metadata": {
        "colab": {
          "base_uri": "https://localhost:8080/"
        },
        "id": "GT9DE81l06EH",
        "outputId": "bff21d2d-4227-4383-b69c-34b5171aaede"
      },
      "source": [
        "from tensorflow.keras.models import *\n",
        "from tensorflow.keras.layers import *\n",
        "\n",
        "total_words = len(word_index)+1\n",
        "embedding_dim = 5\n",
        "#define model\n",
        "model = Sequential()\n",
        "model.add(Embedding(total_words, embedding_dim, input_length=max_length,name='embedding_layer'))\n",
        "model.add(SimpleRNN(128, activation='relu',return_sequences=True,name='rnn1'))\n",
        "model.add(SimpleRNN(256, activation='relu',name='rnn2'))\n",
        "model.add(Dense(1,activation='sigmoid'))\n",
        "print(model.summary())"
      ],
      "execution_count": null,
      "outputs": [
        {
          "output_type": "stream",
          "text": [
            "Model: \"sequential_1\"\n",
            "_________________________________________________________________\n",
            "Layer (type)                 Output Shape              Param #   \n",
            "=================================================================\n",
            "embedding_layer (Embedding)  (None, 7, 5)              60        \n",
            "_________________________________________________________________\n",
            "rnn1 (SimpleRNN)             (None, 7, 128)            17152     \n",
            "_________________________________________________________________\n",
            "rnn2 (SimpleRNN)             (None, 256)               98560     \n",
            "_________________________________________________________________\n",
            "dense (Dense)                (None, 1)                 257       \n",
            "=================================================================\n",
            "Total params: 116,029\n",
            "Trainable params: 116,029\n",
            "Non-trainable params: 0\n",
            "_________________________________________________________________\n",
            "None\n"
          ],
          "name": "stdout"
        }
      ]
    },
    {
      "cell_type": "code",
      "metadata": {
        "colab": {
          "base_uri": "https://localhost:8080/"
        },
        "id": "3ogmqBe51ip9",
        "outputId": "6e5b2cbf-5885-4dae-a96a-019940d8503c"
      },
      "source": [
        "from keras.optimizers import *\n",
        "#compile network\n",
        "opt = SGD(lr=0.01,decay=1e-6)\n",
        "model.compile(loss=\"binary_crossentropy\",optimizer=opt, metrics=['accuracy'])\n",
        "#fit network\n",
        "model.fit(data, y, epochs=10, verbose=1)"
      ],
      "execution_count": null,
      "outputs": [
        {
          "output_type": "stream",
          "text": [
            "/usr/local/lib/python3.7/dist-packages/tensorflow/python/keras/optimizer_v2/optimizer_v2.py:375: UserWarning: The `lr` argument is deprecated, use `learning_rate` instead.\n",
            "  \"The `lr` argument is deprecated, use `learning_rate` instead.\")\n"
          ],
          "name": "stderr"
        },
        {
          "output_type": "stream",
          "text": [
            "Epoch 1/10\n",
            "1/1 [==============================] - 2s 2s/step - loss: 0.6948 - accuracy: 0.0000e+00\n",
            "Epoch 2/10\n",
            "1/1 [==============================] - 0s 11ms/step - loss: 0.6925 - accuracy: 0.5000\n",
            "Epoch 3/10\n",
            "1/1 [==============================] - 0s 11ms/step - loss: 0.6906 - accuracy: 1.0000\n",
            "Epoch 4/10\n",
            "1/1 [==============================] - 0s 8ms/step - loss: 0.6888 - accuracy: 1.0000\n",
            "Epoch 5/10\n",
            "1/1 [==============================] - 0s 10ms/step - loss: 0.6871 - accuracy: 1.0000\n",
            "Epoch 6/10\n",
            "1/1 [==============================] - 0s 13ms/step - loss: 0.6855 - accuracy: 1.0000\n",
            "Epoch 7/10\n",
            "1/1 [==============================] - 0s 8ms/step - loss: 0.6840 - accuracy: 1.0000\n",
            "Epoch 8/10\n",
            "1/1 [==============================] - 0s 9ms/step - loss: 0.6827 - accuracy: 1.0000\n",
            "Epoch 9/10\n",
            "1/1 [==============================] - 0s 10ms/step - loss: 0.6815 - accuracy: 1.0000\n",
            "Epoch 10/10\n",
            "1/1 [==============================] - 0s 8ms/step - loss: 0.6804 - accuracy: 1.0000\n"
          ],
          "name": "stdout"
        },
        {
          "output_type": "execute_result",
          "data": {
            "text/plain": [
              "<tensorflow.python.keras.callbacks.History at 0x7f4d22492790>"
            ]
          },
          "metadata": {
            "tags": []
          },
          "execution_count": 15
        }
      ]
    },
    {
      "cell_type": "code",
      "metadata": {
        "colab": {
          "base_uri": "https://localhost:8080/"
        },
        "id": "i_AjTboK2TSE",
        "outputId": "833597d6-c946-4878-8878-ae8b5635addc"
      },
      "source": [
        "embeddings=model.get_weights()\n",
        "print('Embedding Layer weight shape:', embeddings[0].shape)\n",
        "print('Embedding Layer weight:', embeddings[0])"
      ],
      "execution_count": null,
      "outputs": [
        {
          "output_type": "stream",
          "text": [
            "Embedding Layer weight shape: (12, 5)\n",
            "Embedding Layer weight: [[-0.01173312 -0.02282069 -0.04649848 -0.00152503 -0.00179871]\n",
            " [ 0.00630259  0.04307024 -0.04247494  0.04338709  0.0146789 ]\n",
            " [ 0.04338428  0.03703294 -0.02043612  0.00047711  0.03013818]\n",
            " [-0.03176136 -0.03866009  0.0269333   0.02723563  0.02137726]\n",
            " [ 0.04569173  0.01422444 -0.02841561  0.02667941 -0.00092241]\n",
            " [-0.05042855 -0.00063094 -0.00641835  0.02358894 -0.00793879]\n",
            " [ 0.0153012   0.03954896  0.02716045 -0.00551824 -0.05040776]\n",
            " [ 0.01725877 -0.03577626 -0.01754079 -0.01732745 -0.01554221]\n",
            " [ 0.02630043  0.02198145 -0.00041428 -0.02054566  0.00275576]\n",
            " [-0.0301897  -0.03188618  0.02451312  0.04927035 -0.02066628]\n",
            " [ 0.03661839  0.02412095  0.04819538 -0.02283391 -0.02910481]\n",
            " [ 0.02777234 -0.02258898  0.00635848 -0.03772121  0.00537035]]\n"
          ],
          "name": "stdout"
        }
      ]
    },
    {
      "cell_type": "code",
      "metadata": {
        "id": "6avNSp-a2jQs"
      },
      "source": [
        ""
      ],
      "execution_count": null,
      "outputs": []
    }
  ]
}